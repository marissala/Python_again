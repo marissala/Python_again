{
 "cells": [
  {
   "cell_type": "markdown",
   "metadata": {},
   "source": [
    "# Fake news and True news classifier\n",
    "Credits for the sklearn code: https://towardsdatascience.com/machine-learning-nlp-text-classification-using-scikit-learn-python-and-nltk-c52b92a7c73a"
   ]
  },
  {
   "cell_type": "code",
   "execution_count": 353,
   "metadata": {},
   "outputs": [
    {
     "name": "stdout",
     "output_type": "stream",
     "text": [
      "800\n",
      "800\n",
      "200\n"
     ]
    }
   ],
   "source": [
    "# Load the train data\n",
    "import json\n",
    "import pandas as pd\n",
    "with open(\"data/real_train.json\", \"r\", encoding=\"utf8\") as file:\n",
    "    real_train = pd.read_json(file)\n",
    "\n",
    "with open(\"data/fake_train.json\", \"r\", encoding=\"utf8\") as file:\n",
    "    fake_train = pd.read_json(file)\n",
    "\n",
    "# Inspect the data\n",
    "print(len(real_train))\n",
    "print(len(fake_train))\n",
    "\n",
    "#print(real_train.head())\n",
    "#print(fake_train.head())\n",
    "\n",
    "# Add index\n",
    "# 0 = True, 1 = Fake\n",
    "real_train[\"target\"] = 0\n",
    "fake_train[\"target\"] = 1\n",
    "\n",
    "# Load the test data\n",
    "with open(\"data/real_test.json\", \"r\", encoding=\"utf8\") as file:\n",
    "    real_test = pd.read_json(file)\n",
    "\n",
    "with open(\"data/fake_test.json\", \"r\", encoding=\"utf8\") as file:\n",
    "    fake_test = pd.read_json(file)\n",
    "    \n",
    "# 0 = True, 1 = Fake\n",
    "real_test[\"target\"] = 0\n",
    "fake_test[\"target\"] = 1\n",
    "\n",
    "print(len(fake_test))"
   ]
  },
  {
   "cell_type": "code",
   "execution_count": 354,
   "metadata": {},
   "outputs": [],
   "source": [
    "# Drop duplicates in case there are any\n",
    "real_train = real_train.drop_duplicates(subset =\"text\")\n",
    "fake_train = fake_train.drop_duplicates(subset =\"text\")\n",
    "real_test = real_test.drop_duplicates(subset =\"text\")\n",
    "fake_test = fake_test.drop_duplicates(subset =\"text\")"
   ]
  },
  {
   "cell_type": "code",
   "execution_count": 355,
   "metadata": {},
   "outputs": [
    {
     "name": "stdout",
     "output_type": "stream",
     "text": [
      "Real len train:  3546.125\n",
      "Fake len train:  3492.050615595075\n",
      "Real len test:  3386.2323232323233\n",
      "Fake len test:  2917.4114583333335\n"
     ]
    }
   ],
   "source": [
    "#Check the average length of real news vs fake news in the dataset\n",
    "print(\"Real len train: \", np.mean([len(line) for line in real_train.text]))\n",
    "print(\"Fake len train: \", np.mean([len(line) for line in fake_train.text]))\n",
    "print(\"Real len test: \", np.mean([len(line) for line in real_test.text]))\n",
    "print(\"Fake len test: \", np.mean([len(line) for line in fake_test.text]))"
   ]
  },
  {
   "cell_type": "markdown",
   "metadata": {},
   "source": [
    "## Inspect the data"
   ]
  },
  {
   "cell_type": "code",
   "execution_count": 356,
   "metadata": {},
   "outputs": [],
   "source": [
    "# Inspect the text line by line for a few samples to get a sense of the data\n",
    "#fake_train.text[4] #Found a line that starts with Fatal error\n",
    "#real_train.text[100] #Found something that looks like: ({{contentCtrl.commentsTotal}})"
   ]
  },
  {
   "cell_type": "code",
   "execution_count": 357,
   "metadata": {},
   "outputs": [
    {
     "name": "stdout",
     "output_type": "stream",
     "text": [
      "------------\n",
      "line\n",
      "------------\n",
      "line\n",
      "------------\n",
      "line\n",
      "------------\n",
      "line\n",
      "------------\n",
      "line\n",
      "------------\n",
      "line\n",
      "------------\n",
      "line\n",
      "------------\n",
      "line\n",
      "------------\n",
      "line\n",
      "------------\n",
      "line\n",
      "------------\n",
      "line\n",
      "------------\n",
      "line\n",
      "------------\n",
      "line\n",
      "------------\n",
      "line\n",
      "------------\n",
      "line\n",
      "------------\n",
      "line\n",
      "------------\n",
      "line\n",
      "------------\n",
      "line\n",
      "------------\n",
      "line\n",
      "------------\n",
      "line\n",
      "------------\n",
      "line\n",
      "------------\n",
      "line\n",
      "------------\n",
      "line\n",
      "------------\n",
      "line\n",
      "------------\n",
      "line\n",
      "------------\n",
      "line\n",
      "------------\n",
      "line\n",
      "------------\n",
      "line\n",
      "------------\n",
      "line\n",
      "------------\n",
      "line\n",
      "------------\n",
      "line\n",
      "------------\n",
      "line\n",
      "------------\n",
      "line\n",
      "------------\n",
      "line\n",
      "------------\n",
      "line\n",
      "------------\n",
      "line\n",
      "------------\n",
      "line\n",
      "------------\n",
      "line\n",
      "------------\n",
      "line\n",
      "------------\n",
      "line\n",
      "------------\n",
      "line\n",
      "------------\n",
      "line\n",
      "------------\n",
      "line\n",
      "------------\n",
      "line\n",
      "------------\n",
      "line\n",
      "------------\n",
      "line\n",
      "------------\n",
      "line\n",
      "------------\n",
      "line\n",
      "------------\n",
      "line\n",
      "------------\n",
      "line\n",
      "------------\n",
      "line\n",
      "------------\n",
      "line\n",
      "------------\n",
      "line\n",
      "------------\n",
      "line\n",
      "------------\n",
      "line\n",
      "------------\n",
      "line\n",
      "------------\n",
      "line\n",
      "------------\n",
      "line\n",
      "------------\n",
      "line\n",
      "------------\n",
      "line\n",
      "------------\n",
      "line\n"
     ]
    }
   ],
   "source": [
    "# Check for Fatal error\n",
    "import re\n",
    "\n",
    "for line in list(fake_train.text):\n",
    "    if re.findall(\"Fatal error:\", line):\n",
    "        print(\"------------\")\n",
    "        #print(line)\n",
    "        print(\"line\")\n",
    "        \n",
    "# Check for ({{contentCtrl\n",
    "for line in list(real_train.text):\n",
    "    if re.findall(\"({{contentCtrl.commentsTotal}})\", line):\n",
    "        print(\"------------\")\n",
    "        #print(line)\n",
    "        print(\"line\")"
   ]
  },
  {
   "cell_type": "markdown",
   "metadata": {},
   "source": [
    "From inspecting the data:\n",
    "1. Remove ({{contentCtrl.commentsTotal}}) from real_train\n",
    "2. Remove \"Fatal error\" from fake_train\n",
    "\n",
    "Note: Removing the lines that have Fatal error means that I'm reducing the amount of data. But if real data has the comments element and fake data has the Fatal error in it, the classifier will have an easy time classifying - but for an arbitrary reason. Thus both need to be removed, even if it means having less data."
   ]
  },
  {
   "cell_type": "markdown",
   "metadata": {},
   "source": [
    "## Composing the classifier\n",
    "1. Make a classifier with keeping the original data as it is\n",
    "2. Classifier where contentCtrl and Fatal error is removed\n",
    "3. Classifier where the text is additionally lower-cased and punctuation is removed\n",
    "\n",
    "For simplicity I will put the 1st and 2nd classifiers as appendix and focus on 3rd.\n",
    "\n",
    "Generally: report the results for 2 classifiers originally, compose a confusion matrix. Later try out more classifiers."
   ]
  },
  {
   "cell_type": "markdown",
   "metadata": {},
   "source": [
    "### Classifier: remove contentCtrl and Fatal error, normalize text"
   ]
  },
  {
   "cell_type": "code",
   "execution_count": 358,
   "metadata": {},
   "outputs": [],
   "source": [
    "# Remove contentCtrl from real_train\n",
    "import re\n",
    "real_train['text'] = real_train['text'].str.replace(r'\\({{contentCtrl.commentsTotal}}\\)', '')\n",
    "real_test['text'] = real_test['text'].str.replace(r'\\({{contentCtrl.commentsTotal}}\\)', '')\n",
    "\n",
    "# Remove lines that have Fatal error\n",
    "fake_train = fake_train[~fake_train.text.str.startswith('Fatal error:')]\n",
    "fake_test = fake_test[~fake_test.text.str.startswith('Fatal error:')]\n",
    "\n",
    "# Normalize text - remove punctuation and lowercase everything\n",
    "fake_train[\"text_pun\"] = fake_train['text'].str.replace('[^\\w\\s]',' ')\n",
    "fake_train[\"text_pun\"] = fake_train[\"text_pun\"].str.lower()\n",
    "\n",
    "fake_test[\"text_pun\"] = fake_test['text'].str.replace('[^\\w\\s]',' ')\n",
    "fake_test[\"text_pun\"] = fake_test[\"text_pun\"].str.lower()\n",
    "\n",
    "real_train[\"text_pun\"] = real_train['text'].str.replace('[^\\w\\s]',' ')\n",
    "real_train[\"text_pun\"] = real_train[\"text_pun\"].str.lower()\n",
    "\n",
    "real_test[\"text_pun\"] = real_test['text'].str.replace('[^\\w\\s]',' ')\n",
    "real_test[\"text_pun\"] = real_test[\"text_pun\"].str.lower()"
   ]
  },
  {
   "cell_type": "code",
   "execution_count": 359,
   "metadata": {},
   "outputs": [
    {
     "name": "stdout",
     "output_type": "stream",
     "text": [
      "Real len train:  3543.82421875\n",
      "Fake len train:  3507.365887207703\n",
      "Real len test:  3384.510101010101\n",
      "Fake len test:  2940.657894736842\n",
      "Real train:  768\n",
      "Fake train:  727\n",
      "Real test:  198\n",
      "Fake test:  190\n"
     ]
    }
   ],
   "source": [
    "#Check the average length of real news vs fake news in the dataset\n",
    "print(\"Real len train: \", np.mean([len(line) for line in real_train.text_pun]))\n",
    "print(\"Fake len train: \", np.mean([len(line) for line in fake_train.text_pun]))\n",
    "print(\"Real len test: \", np.mean([len(line) for line in real_test.text_pun]))\n",
    "print(\"Fake len test: \", np.mean([len(line) for line in fake_test.text_pun]))\n",
    "\n",
    "# Check for length of datasets\n",
    "print(\"Real train: \", len(real_train.text_pun))\n",
    "print(\"Fake train: \", len(fake_train.text_pun))\n",
    "print(\"Real test: \", len(real_test.text_pun))\n",
    "print(\"Fake test: \", len(fake_test.text_pun))"
   ]
  },
  {
   "cell_type": "code",
   "execution_count": 360,
   "metadata": {},
   "outputs": [
    {
     "data": {
      "text/plain": [
       "41"
      ]
     },
     "execution_count": 360,
     "metadata": {},
     "output_type": "execute_result"
    }
   ],
   "source": [
    "len(real_train) - len(fake_train)"
   ]
  },
  {
   "cell_type": "markdown",
   "metadata": {},
   "source": [
    "There is a large difference between the lengths of real and fake train dataset. I will remove data from real train to make them equal with attempting to keep the balance between the news lengths in the two classes."
   ]
  },
  {
   "cell_type": "code",
   "execution_count": 361,
   "metadata": {},
   "outputs": [
    {
     "name": "stdout",
     "output_type": "stream",
     "text": [
      "Real len train:  3518.338376891334\n",
      "Fake len train:  3507.365887207703\n",
      "Real train:  727\n",
      "Fake train:  727\n"
     ]
    }
   ],
   "source": [
    "real_train = real_train[0:727]\n",
    "\n",
    "print(\"Real len train: \", np.mean([len(line) for line in real_train.text_pun]))\n",
    "print(\"Fake len train: \", np.mean([len(line) for line in fake_train.text_pun]))\n",
    "\n",
    "print(\"Real train: \", len(real_train.text_pun))\n",
    "print(\"Fake train: \", len(fake_train.text_pun))"
   ]
  },
  {
   "cell_type": "markdown",
   "metadata": {},
   "source": [
    "The difference between fake and real test dataset lengths per news is much bigger than the difference in tha training dataset. Also, the cleaning threw away some data for the test dataset of fake news. I'll exclude the longest 2 news in the test set for real news to both help with the balance of the test datasets and to reduce the error that the classifier will do well because it's predicting news based on the news length."
   ]
  },
  {
   "cell_type": "code",
   "execution_count": 362,
   "metadata": {},
   "outputs": [
    {
     "name": "stdout",
     "output_type": "stream",
     "text": [
      "27829\n",
      "19947\n",
      "18202\n",
      "18167\n",
      "14966\n",
      "Real len test:  2958.663212435233\n",
      "Fake len test:  2940.657894736842\n",
      "Real test:  193\n",
      "Fake test:  190\n"
     ]
    }
   ],
   "source": [
    "# Remove two longest news in real_test\n",
    "print(real_test.text.map(lambda x: len(x)).max())\n",
    "real_test = real_test[real_test['text_pun'].apply(lambda x: len(x) != real_test.text_pun.map(lambda x: len(x)).max())]\n",
    "print(real_test.text.map(lambda x: len(x)).max())\n",
    "real_test = real_test[real_test['text_pun'].apply(lambda x: len(x) != real_test.text_pun.map(lambda x: len(x)).max())]\n",
    "print(real_test.text.map(lambda x: len(x)).max())\n",
    "real_test = real_test[real_test['text_pun'].apply(lambda x: len(x) != real_test.text_pun.map(lambda x: len(x)).max())]\n",
    "print(real_test.text.map(lambda x: len(x)).max())\n",
    "real_test = real_test[real_test['text_pun'].apply(lambda x: len(x) != real_test.text_pun.map(lambda x: len(x)).max())]\n",
    "print(real_test.text.map(lambda x: len(x)).max())\n",
    "real_test = real_test[real_test['text_pun'].apply(lambda x: len(x) != real_test.text_pun.map(lambda x: len(x)).max())]\n",
    "\n",
    "# Check what's the new averages\n",
    "print(\"Real len test: \", np.mean([len(line) for line in real_test.text_pun]))\n",
    "print(\"Fake len test: \", np.mean([len(line) for line in fake_test.text_pun]))\n",
    "\n",
    "# Check the lengths of the dataframes\n",
    "print(\"Real test: \", len(real_test.text_pun))\n",
    "print(\"Fake test: \", len(fake_test.text_pun))"
   ]
  },
  {
   "cell_type": "code",
   "execution_count": 363,
   "metadata": {},
   "outputs": [
    {
     "name": "stdout",
     "output_type": "stream",
     "text": [
      "Real len test:  2963.278947368421\n",
      "Fake len test:  2940.657894736842\n",
      "Real test:  190\n",
      "Fake test:  190\n"
     ]
    }
   ],
   "source": [
    "# Since there is a balance now\n",
    "real_test = real_test[0:190]\n",
    "\n",
    "print(\"Real len test: \", np.mean([len(line) for line in real_test.text_pun]))\n",
    "print(\"Fake len test: \", np.mean([len(line) for line in fake_test.text_pun]))\n",
    "\n",
    "print(\"Real test: \", len(real_test.text_pun))\n",
    "print(\"Fake test: \", len(fake_test.text_pun))"
   ]
  },
  {
   "cell_type": "markdown",
   "metadata": {},
   "source": [
    "Now the datasets are better balanced in how long the news are for all groups and the length of the datasets are the same again."
   ]
  },
  {
   "cell_type": "code",
   "execution_count": 364,
   "metadata": {},
   "outputs": [],
   "source": [
    "# Join data together for real and fake news\n",
    "df_train = pd.concat([real_train, fake_train])\n",
    "df_test = pd.concat([real_test, fake_test])"
   ]
  },
  {
   "cell_type": "code",
   "execution_count": 365,
   "metadata": {},
   "outputs": [
    {
     "data": {
      "text/plain": [
       "0.9631578947368421"
      ]
     },
     "execution_count": 365,
     "metadata": {},
     "output_type": "execute_result"
    }
   ],
   "source": [
    "# Classifier with Naive Bayes\n",
    "from sklearn.feature_extraction.text import CountVectorizer\n",
    "count_vect = CountVectorizer()\n",
    "X_train_counts = count_vect.fit_transform(df_train.text_pun)\n",
    "X_train_counts.shape\n",
    "\n",
    "from sklearn.feature_extraction.text import TfidfTransformer\n",
    "tfidf_transformer = TfidfTransformer()\n",
    "X_train_tfidf = tfidf_transformer.fit_transform(X_train_counts)\n",
    "X_train_tfidf.shape\n",
    "\n",
    "from sklearn.naive_bayes import MultinomialNB\n",
    "clf = MultinomialNB().fit(X_train_tfidf, df_train.target)\n",
    "\n",
    "from sklearn.pipeline import Pipeline\n",
    "text_clf = Pipeline([('vect', CountVectorizer()),\n",
    "                     ('tfidf', TfidfTransformer()),\n",
    "                     ('clf', MultinomialNB()),\n",
    "])\n",
    "text_clf = text_clf.fit(df_train.text_pun, df_train.target)\n",
    "\n",
    "import numpy as np\n",
    "predicted = text_clf.predict(df_test.text_pun)\n",
    "np.mean(predicted == df_test.target)"
   ]
  },
  {
   "cell_type": "code",
   "execution_count": 366,
   "metadata": {},
   "outputs": [
    {
     "name": "stdout",
     "output_type": "stream",
     "text": [
      "Confusion Matrix : \n",
      " [[188   2]\n",
      " [ 12 178]]\n",
      "Accuracy :  0.9631578947368421\n",
      "Sensitivity :  0.9894736842105263\n",
      "Specificity :  0.9368421052631579\n"
     ]
    },
    {
     "data": {
      "text/plain": [
       "<matplotlib.axes._subplots.AxesSubplot at 0x28065bfdac8>"
      ]
     },
     "execution_count": 366,
     "metadata": {},
     "output_type": "execute_result"
    },
    {
     "data": {
      "image/png": "[encoded data removed]",
      "text/plain": [
       "<Figure size 432x288 with 2 Axes>"
      ]
     },
     "metadata": {
      "needs_background": "light"
     },
     "output_type": "display_data"
    },
    {
     "data": {
      "image/png": "[encoded data removed]",
      "text/plain": [
       "<Figure size 432x288 with 2 Axes>"
      ]
     },
     "metadata": {
      "needs_background": "light"
     },
     "output_type": "display_data"
    }
   ],
   "source": [
    "# Compute the confusion matrix and plot it\n",
    "from sklearn.metrics import confusion_matrix\n",
    "y_true = df_test.target\n",
    "y_pred = predicted\n",
    "\n",
    "C = confusion_matrix(y_true, y_pred)\n",
    "print('Confusion Matrix : \\n', C)\n",
    "\n",
    "total1=sum(sum(C))\n",
    "\n",
    "accuracy1=(C[0,0]+C[1,1])/total1\n",
    "print ('Accuracy : ', accuracy1)\n",
    "\n",
    "sensitivity1 = C[0,0]/(C[0,0]+C[0,1])\n",
    "print('Sensitivity : ', sensitivity1 )\n",
    "\n",
    "specificity1 = C[1,1]/(C[1,0]+C[1,1])\n",
    "print('Specificity : ', specificity1)\n",
    "\n",
    "# Normalize confusion matrix along actual values\n",
    "B = C / C.astype(np.float).sum(axis=1)\n",
    "\n",
    "import seaborn as sn\n",
    "import pandas as pd\n",
    "import matplotlib.pyplot as plt\n",
    "array = B\n",
    "df_cm = pd.DataFrame(array, index=[\"Predicted True\", \"Predicted Fake\"], columns=[\"Actual True\", \"Actual Fake\"])\n",
    "plt.figure()#figsize = (10,7))\n",
    "sn.heatmap(df_cm, annot=True)\n",
    "\n",
    "# Normalize confusion matrix along predicted values\n",
    "A = C / C.astype(np.float).sum(axis=0)\n",
    "\n",
    "array = A\n",
    "df_cm = pd.DataFrame(array, index=[\"Predicted True\", \"Predicted Fake\"], columns=[\"Actual True\", \"Actual Fake\"])\n",
    "plt.figure()#figsize = (10,7))\n",
    "sn.heatmap(df_cm, annot=True)"
   ]
  },
  {
   "cell_type": "code",
   "execution_count": 367,
   "metadata": {},
   "outputs": [
    {
     "data": {
      "text/plain": [
       "0.9789473684210527"
      ]
     },
     "execution_count": 367,
     "metadata": {},
     "output_type": "execute_result"
    }
   ],
   "source": [
    "# Classifier as SVM\n",
    "from sklearn.linear_model import SGDClassifier\n",
    "text_clf_svm = Pipeline([('vect', CountVectorizer()),\n",
    "                     ('tfidf', TfidfTransformer()),\n",
    "                     ('clf-svm', SGDClassifier(loss='hinge', penalty='l2',\n",
    "                                           alpha=1e-3, random_state=42)),]) #n_iter=5\n",
    "_ = text_clf_svm.fit(df_train.text_pun, df_train.target)\n",
    "predicted_svm = text_clf_svm.predict(df_test.text_pun)\n",
    "np.mean(predicted_svm == df_test.target)"
   ]
  },
  {
   "cell_type": "code",
   "execution_count": 368,
   "metadata": {},
   "outputs": [
    {
     "name": "stdout",
     "output_type": "stream",
     "text": [
      "Confusion Matrix : \n",
      " [[187   3]\n",
      " [  5 185]]\n",
      "Accuracy :  0.9789473684210527\n",
      "Sensitivity :  0.9842105263157894\n",
      "Specificity :  0.9736842105263158\n"
     ]
    },
    {
     "data": {
      "text/plain": [
       "<matplotlib.axes._subplots.AxesSubplot at 0x280014cb550>"
      ]
     },
     "execution_count": 368,
     "metadata": {},
     "output_type": "execute_result"
    },
    {
     "data": {
      "image/png": "[encoded data removed]",
      "text/plain": [
       "<Figure size 432x288 with 2 Axes>"
      ]
     },
     "metadata": {
      "needs_background": "light"
     },
     "output_type": "display_data"
    },
    {
     "data": {
      "image/png": "[encoded data removed]",
      "text/plain": [
       "<Figure size 432x288 with 2 Axes>"
      ]
     },
     "metadata": {
      "needs_background": "light"
     },
     "output_type": "display_data"
    }
   ],
   "source": [
    "# Compute the confusion matrix and plot it\n",
    "from sklearn.metrics import confusion_matrix\n",
    "y_true = df_test.target\n",
    "y_pred = predicted_svm\n",
    "\n",
    "C2 = confusion_matrix(y_true, y_pred)\n",
    "print('Confusion Matrix : \\n', C2)\n",
    "\n",
    "total2=sum(sum(C2))\n",
    "\n",
    "accuracy2=(C2[0,0]+C2[1,1])/total2\n",
    "print ('Accuracy : ', accuracy2)\n",
    "\n",
    "sensitivity2 = C2[0,0]/(C2[0,0]+C2[0,1])\n",
    "print('Sensitivity : ', sensitivity2 )\n",
    "\n",
    "specificity2 = C2[1,1]/(C2[1,0]+C2[1,1])\n",
    "print('Specificity : ', specificity2)\n",
    "\n",
    "# Normalize confusion matrix along actual values\n",
    "B = C2 / C2.astype(np.float).sum(axis=1)\n",
    "\n",
    "import seaborn as sn\n",
    "import pandas as pd\n",
    "import matplotlib.pyplot as plt\n",
    "array = B\n",
    "df_cm = pd.DataFrame(array, index=[\"Predicted True\", \"Predicted Fake\"], columns=[\"Actual True\", \"Actual Fake\"])\n",
    "plt.figure()#figsize = (10,7))\n",
    "sn.heatmap(df_cm, annot=True)\n",
    "\n",
    "# Normalize confusion matrix along predicted values\n",
    "A = C2 / C2.astype(np.float).sum(axis=0)\n",
    "\n",
    "array = A\n",
    "df_cm = pd.DataFrame(array, index=[\"Predicted True\", \"Predicted Fake\"], columns=[\"Actual True\", \"Actual Fake\"])\n",
    "plt.figure()#figsize = (10,7))\n",
    "sn.heatmap(df_cm, annot=True)"
   ]
  },
  {
   "cell_type": "markdown",
   "metadata": {},
   "source": [
    "Ideally what we want is to have is both high sensitivity and specificity. Plotting the two classifiers results together:"
   ]
  },
  {
   "cell_type": "code",
   "execution_count": 369,
   "metadata": {},
   "outputs": [
    {
     "name": "stdout",
     "output_type": "stream",
     "text": [
      "NB Confusion Matrix : \n",
      " [[188   2]\n",
      " [ 12 178]]\n",
      "Accuracy :  0.9631578947368421\n",
      "Sensitivity :  0.9894736842105263\n",
      "Specificity :  0.9368421052631579\n"
     ]
    }
   ],
   "source": [
    "print('NB Confusion Matrix : \\n', C)\n",
    "print ('Accuracy : ', accuracy1)\n",
    "print('Sensitivity : ', sensitivity1)\n",
    "print('Specificity : ', specificity1)"
   ]
  },
  {
   "cell_type": "code",
   "execution_count": 370,
   "metadata": {},
   "outputs": [
    {
     "name": "stdout",
     "output_type": "stream",
     "text": [
      "SVM Confusion Matrix : \n",
      " [[187   3]\n",
      " [  5 185]]\n",
      "Accuracy :  0.9789473684210527\n",
      "Sensitivity :  0.9842105263157894\n",
      "Specificity :  0.9736842105263158\n"
     ]
    }
   ],
   "source": [
    "print('SVM Confusion Matrix : \\n', C2)\n",
    "print ('Accuracy : ', accuracy2)\n",
    "print('Sensitivity : ', sensitivity2)\n",
    "print('Specificity : ', specificity2)"
   ]
  },
  {
   "cell_type": "markdown",
   "metadata": {},
   "source": [
    "Here we see that SVM has a slightly lower sensitivity but a higher specificity and accuracy compared to NB. If I'd have to choose which error rate to optimize towards, I'd rather have more real news predicted as fake than to have fake news predicted as true. From this aspect I'd prefer SVM since it classifies 5 fake news as real and 3 real news as fake. Five is still a lot, I'll see if I can get better results with optimized parameters."
   ]
  },
  {
   "cell_type": "markdown",
   "metadata": {},
   "source": [
    "### Now to optimize some of the parameters to see if that makes a difference"
   ]
  },
  {
   "cell_type": "code",
   "execution_count": 371,
   "metadata": {},
   "outputs": [],
   "source": [
    "from sklearn.model_selection import GridSearchCV\n",
    "parameters = {'vect__ngram_range': [(1, 1), (1, 2)],\n",
    "              'tfidf__use_idf': (True, False),\n",
    "              'clf__alpha': (1e-2, 1e-3),\n",
    "}\n",
    "\n",
    "gs_clf = GridSearchCV(text_clf, parameters, n_jobs=-1)\n",
    "gs_clf = gs_clf.fit(df_train.text_pun, df_train.target)"
   ]
  },
  {
   "cell_type": "code",
   "execution_count": 372,
   "metadata": {},
   "outputs": [
    {
     "name": "stdout",
     "output_type": "stream",
     "text": [
      "0.9656120393411541\n",
      "{'clf__alpha': 0.001, 'tfidf__use_idf': True, 'vect__ngram_range': (1, 2)}\n"
     ]
    }
   ],
   "source": [
    "# Print the best parameters\n",
    "print(gs_clf.best_score_)\n",
    "print(gs_clf.best_params_)"
   ]
  },
  {
   "cell_type": "code",
   "execution_count": 373,
   "metadata": {},
   "outputs": [
    {
     "name": "stdout",
     "output_type": "stream",
     "text": [
      "0.975231662519256\n",
      "{'clf-svm__alpha': 0.001, 'tfidf__use_idf': True, 'vect__ngram_range': (1, 2)}\n"
     ]
    }
   ],
   "source": [
    "# Same for SVM classifier\n",
    "from sklearn.model_selection import GridSearchCV\n",
    "parameters_svm = {'vect__ngram_range': [(1, 1), (1, 2)],\n",
    "               'tfidf__use_idf': (True, False),\n",
    "               'clf-svm__alpha': (1e-2, 1e-3),\n",
    "}\n",
    "gs_clf_svm = GridSearchCV(text_clf_svm, parameters_svm, n_jobs=-1)\n",
    "gs_clf_svm = gs_clf_svm.fit(df_train.text_pun, df_train.target)\n",
    "print(gs_clf_svm.best_score_)\n",
    "print(gs_clf_svm.best_params_)"
   ]
  },
  {
   "cell_type": "code",
   "execution_count": 374,
   "metadata": {},
   "outputs": [
    {
     "data": {
      "text/plain": [
       "0.9763157894736842"
      ]
     },
     "execution_count": 374,
     "metadata": {},
     "output_type": "execute_result"
    }
   ],
   "source": [
    "# Run NB again with improved parameters\n",
    "from sklearn.feature_extraction.text import CountVectorizer\n",
    "count_vect = CountVectorizer()\n",
    "X_train_counts = count_vect.fit_transform(df_train.text_pun)\n",
    "X_train_counts.shape\n",
    "\n",
    "# Define the new parameters\n",
    "params_nb = gs_clf.best_params_\n",
    "\n",
    "from sklearn.feature_extraction.text import TfidfTransformer\n",
    "tfidf_transformer = TfidfTransformer()\n",
    "X_train_tfidf = tfidf_transformer.fit_transform(X_train_counts)\n",
    "X_train_tfidf.shape\n",
    "\n",
    "from sklearn.naive_bayes import MultinomialNB\n",
    "from sklearn.pipeline import Pipeline\n",
    "text_clf = Pipeline([('vect', CountVectorizer()),\n",
    "                     ('tfidf', TfidfTransformer()),\n",
    "                     ('clf', MultinomialNB()),\n",
    "])\n",
    "text_clf = text_clf.set_params(**params_nb)\n",
    "text_clf = text_clf.fit(df_train.text_pun, df_train.target)\n",
    "\n",
    "import numpy as np\n",
    "predicted = text_clf.predict(df_test.text_pun)\n",
    "np.mean(predicted == df_test.target)"
   ]
  },
  {
   "cell_type": "code",
   "execution_count": 375,
   "metadata": {},
   "outputs": [],
   "source": [
    "# This is better than the previous score so I'll run the updated confusion matrix\n",
    "# Compute the confusion matrix and plot it\n",
    "from sklearn.metrics import confusion_matrix\n",
    "y_true = df_test.target\n",
    "y_pred = predicted\n",
    "\n",
    "C = confusion_matrix(y_true, y_pred)\n",
    "total1=sum(sum(C))\n",
    "accuracy1=(C[0,0]+C[1,1])/total1\n",
    "sensitivity1 = C[0,0]/(C[0,0]+C[0,1])\n",
    "specificity1 = C[1,1]/(C[1,0]+C[1,1])"
   ]
  },
  {
   "cell_type": "code",
   "execution_count": 376,
   "metadata": {},
   "outputs": [
    {
     "data": {
      "text/plain": [
       "0.9763157894736842"
      ]
     },
     "execution_count": 376,
     "metadata": {},
     "output_type": "execute_result"
    }
   ],
   "source": [
    "# Run SVM again with improved parameters\n",
    "# Classifier as SVM\n",
    "from sklearn.linear_model import SGDClassifier\n",
    "text_clf_svm = Pipeline([('vect', CountVectorizer()),\n",
    "                     ('tfidf', TfidfTransformer()),\n",
    "                     ('clf-svm', SGDClassifier(loss='hinge', penalty='l2',\n",
    "                                           alpha=1e-3, random_state=42)),]) #n_iter=5\n",
    "params_svm = gs_clf_svm.best_params_\n",
    "\n",
    "text_clf_svm = text_clf_svm.set_params(**params_svm)\n",
    "_ = text_clf_svm.fit(df_train.text_pun, df_train.target)\n",
    "predicted_svm = text_clf_svm.predict(df_test.text_pun)\n",
    "np.mean(predicted_svm == df_test.target)"
   ]
  },
  {
   "cell_type": "code",
   "execution_count": 377,
   "metadata": {},
   "outputs": [],
   "source": [
    "from sklearn.metrics import confusion_matrix\n",
    "y_true = df_test.target\n",
    "y_pred = predicted_svm\n",
    "\n",
    "C3 = confusion_matrix(y_true, y_pred)\n",
    "total3=sum(sum(C3))\n",
    "accuracy3=(C3[0,0]+C3[1,1])/total3\n",
    "sensitivity3 = C3[0,0]/(C3[0,0]+C3[0,1])\n",
    "specificity3 = C3[1,1]/(C3[1,0]+C3[1,1])"
   ]
  },
  {
   "cell_type": "code",
   "execution_count": 378,
   "metadata": {},
   "outputs": [
    {
     "name": "stdout",
     "output_type": "stream",
     "text": [
      "NB Confusion Matrix : \n",
      " [[189   1]\n",
      " [  8 182]]\n",
      "Accuracy :  0.9763157894736842\n",
      "Sensitivity :  0.9947368421052631\n",
      "Specificity :  0.9578947368421052\n"
     ]
    }
   ],
   "source": [
    "print('NB Confusion Matrix : \\n', C)\n",
    "print ('Accuracy : ', accuracy1)\n",
    "print('Sensitivity : ', sensitivity1)\n",
    "print('Specificity : ', specificity1)"
   ]
  },
  {
   "cell_type": "code",
   "execution_count": 379,
   "metadata": {},
   "outputs": [
    {
     "name": "stdout",
     "output_type": "stream",
     "text": [
      "SVM Confusion Matrix : \n",
      " [[188   2]\n",
      " [  7 183]]\n",
      "Accuracy :  0.9763157894736842\n",
      "Sensitivity :  0.9894736842105263\n",
      "Specificity :  0.9631578947368421\n"
     ]
    }
   ],
   "source": [
    "print('SVM Confusion Matrix : \\n', C3)\n",
    "print ('Accuracy : ', accuracy3)\n",
    "print('Sensitivity : ', sensitivity3)\n",
    "print('Specificity : ', specificity3)"
   ]
  },
  {
   "cell_type": "markdown",
   "metadata": {},
   "source": [
    "Seems like the best model at hand currently is the original SVM - optimized parameters for some reason brough up the error rate for classifying fake news as real news."
   ]
  },
  {
   "cell_type": "markdown",
   "metadata": {},
   "source": [
    "# Conclusions\n",
    "\n",
    "The non-optimized SVM classifier outperforms NB: 5 fake news are categorized as real news and 3 real news are classified as fake.\n",
    "\n",
    "Manipulations made to get to this result:\n",
    "1. Remove duplicates\n",
    "2. Remove the two most common errors I saw in fake and real datasets\n",
    "3. Optimize towards similar length of news across all classes in both train and test datasets\n",
    "4. Balance both datasets\n",
    "\n",
    "There shouldn't be much error with regards to data leakage. However, I could get better results if I'd use title and URL in the predictions but that would require extra work in terms of potential biases that can come from that (I'd have to check whether the URL that only exists in the training dataset of real news doesn't occur in the test dataset for fake news because those news will then be predicted as true as a default), also it's generally more interesting to analyise the text itself over the URL-s and title's.\n",
    "\n",
    "To see what's up with the ones that were classified incorrectly, I'll print them below."
   ]
  },
  {
   "cell_type": "code",
   "execution_count": 348,
   "metadata": {},
   "outputs": [
    {
     "name": "stdout",
     "output_type": "stream",
     "text": [
      "SVM Confusion Matrix : \n",
      " [[187   3]\n",
      " [  5 185]]\n",
      "Accuracy :  0.9789473684210527\n",
      "Sensitivity :  0.9842105263157894\n",
      "Specificity :  0.9736842105263158\n"
     ]
    }
   ],
   "source": [
    "print('SVM Confusion Matrix : \\n', C2)\n",
    "print ('Accuracy : ', accuracy2)\n",
    "print('Sensitivity : ', sensitivity2)\n",
    "print('Specificity : ', specificity2)"
   ]
  },
  {
   "cell_type": "code",
   "execution_count": 380,
   "metadata": {},
   "outputs": [
    {
     "name": "stdout",
     "output_type": "stream",
     "text": [
      "[1 1 1 1 0 1 0 1 1 1 1 1 1 1 1 1 1 1 1 1 1 1 1 1 1 1 1 1 1 1 1 1 1 1 1 1 1\n",
      " 1 1 1 1 1 1 1 1 1 1 1 1 1 1 1 0 1 1 1 1 1 1 1 1 0 1 1 1 1 1 1 1 1 1 1 1 1\n",
      " 1 1 1 0 1 0 1 1 1 1 1 1 1 1 1 1 1 1 1 1 1 1 1 1 1 1 1 1 1 1 1 1 1 1 1 1 1\n",
      " 1 1 1 1 1 1 1 1 1 1 1 1 1 1 1 1 1 1 1 1 1 1 1 1 1 1 1 1 1 1 1 1 1 1 1 1 1\n",
      " 1 1 1 1 1 1 1 1 1 1 1 1 1 1 1 1 1 1 1 1 1 1 1 1 1 1 1 1 1 1 1 1 0 1 1 1 1\n",
      " 1 1 1 1 1]\n"
     ]
    }
   ],
   "source": [
    "# Showing the fake news that were classified as real news\n",
    "reals = predicted_svm[190:]\n",
    "print(reals)\n",
    "\n",
    "df = pd.DataFrame(list(zip(reals, df_test.text_pun)), \n",
    "               columns =['Predicted', 'text']) \n",
    "\n",
    "#Print the incorrect rows\n",
    "fakes = df[df[\"Predicted\"] == 0].reset_index()\n",
    "\n",
    "#fakes"
   ]
  },
  {
   "cell_type": "markdown",
   "metadata": {},
   "source": [
    "# Appendix\n",
    "1. Predicting results from title only\n",
    "2. Running the model on just the original data"
   ]
  },
  {
   "cell_type": "markdown",
   "metadata": {},
   "source": [
    "## 2. Predict class based on title only"
   ]
  },
  {
   "cell_type": "code",
   "execution_count": 229,
   "metadata": {},
   "outputs": [
    {
     "name": "stdout",
     "output_type": "stream",
     "text": [
      "0.8955613577023499\n",
      "[[171  22]\n",
      " [ 18 172]]\n"
     ]
    },
    {
     "data": {
      "text/plain": [
       "<matplotlib.axes._subplots.AxesSubplot at 0x28068aaab00>"
      ]
     },
     "execution_count": 229,
     "metadata": {},
     "output_type": "execute_result"
    },
    {
     "data": {
      "image/png": "[encoded data removed]",
      "text/plain": [
       "<Figure size 432x288 with 2 Axes>"
      ]
     },
     "metadata": {
      "needs_background": "light"
     },
     "output_type": "display_data"
    },
    {
     "data": {
      "image/png": "[encoded data removed]",
      "text/plain": [
       "<Figure size 432x288 with 2 Axes>"
      ]
     },
     "metadata": {
      "needs_background": "light"
     },
     "output_type": "display_data"
    }
   ],
   "source": [
    "from sklearn.feature_extraction.text import CountVectorizer\n",
    "count_vect = CountVectorizer()\n",
    "X_train_counts = count_vect.fit_transform(df_train.title)\n",
    "X_train_counts.shape\n",
    "\n",
    "from sklearn.feature_extraction.text import TfidfTransformer\n",
    "tfidf_transformer = TfidfTransformer()\n",
    "X_train_tfidf = tfidf_transformer.fit_transform(X_train_counts)\n",
    "X_train_tfidf.shape\n",
    "\n",
    "from sklearn.naive_bayes import MultinomialNB\n",
    "clf = MultinomialNB().fit(X_train_tfidf, df_train.target)\n",
    "\n",
    "from sklearn.pipeline import Pipeline\n",
    "text_clf = Pipeline([('vect', CountVectorizer()),\n",
    "                     ('tfidf', TfidfTransformer()),\n",
    "                     ('clf', MultinomialNB()),\n",
    "])\n",
    "text_clf = text_clf.fit(df_train.title, df_train.target)\n",
    "\n",
    "import numpy as np\n",
    "predicted = text_clf.predict(df_test.title)\n",
    "print(np.mean(predicted == df_test.target))\n",
    "\n",
    "# Compute the confusion matrix and plot it\n",
    "from sklearn.metrics import confusion_matrix\n",
    "y_true = df_test.target\n",
    "y_pred = predicted\n",
    "\n",
    "C = confusion_matrix(y_true, y_pred)\n",
    "print(C)\n",
    "# Normalize confusion matrix along actual values\n",
    "B = C / C.astype(np.float).sum(axis=1)\n",
    "\n",
    "import seaborn as sn\n",
    "import pandas as pd\n",
    "import matplotlib.pyplot as plt\n",
    "array = B\n",
    "df_cm = pd.DataFrame(array, index=[\"Predicted True\", \"Predicted Fake\"], columns=[\"Actual True\", \"Actual Fake\"])\n",
    "plt.figure()#figsize = (10,7))\n",
    "sn.heatmap(df_cm, annot=True)\n",
    "\n",
    "# Normalize confusion matrix along predicted values\n",
    "A = C / C.astype(np.float).sum(axis=0)\n",
    "\n",
    "array = A\n",
    "df_cm = pd.DataFrame(array, index=[\"Predicted True\", \"Predicted Fake\"], columns=[\"Actual True\", \"Actual Fake\"])\n",
    "plt.figure()#figsize = (10,7))\n",
    "sn.heatmap(df_cm, annot=True)"
   ]
  },
  {
   "cell_type": "markdown",
   "metadata": {},
   "source": [
    "## 2. No manipulations to data"
   ]
  },
  {
   "cell_type": "code",
   "execution_count": 230,
   "metadata": {},
   "outputs": [
    {
     "name": "stdout",
     "output_type": "stream",
     "text": [
      "0.9625\n"
     ]
    },
    {
     "data": {
      "text/plain": [
       "<matplotlib.axes._subplots.AxesSubplot at 0x28064884198>"
      ]
     },
     "execution_count": 230,
     "metadata": {},
     "output_type": "execute_result"
    },
    {
     "data": {
      "image/png": "[encoded data removed]",
      "text/plain": [
       "<Figure size 432x288 with 2 Axes>"
      ]
     },
     "metadata": {
      "needs_background": "light"
     },
     "output_type": "display_data"
    },
    {
     "data": {
      "image/png": "[encoded data removed]",
      "text/plain": [
       "<Figure size 432x288 with 2 Axes>"
      ]
     },
     "metadata": {
      "needs_background": "light"
     },
     "output_type": "display_data"
    }
   ],
   "source": [
    "with open(\"data/real_train.json\", \"r\", encoding=\"utf8\") as file:\n",
    "    real_train = pd.read_json(file)\n",
    "\n",
    "with open(\"data/fake_train.json\", \"r\", encoding=\"utf8\") as file:\n",
    "    fake_train = pd.read_json(file)\n",
    "\n",
    "# Add index\n",
    "# 0 = True, 1 = Fake\n",
    "real_train[\"target\"] = 0\n",
    "fake_train[\"target\"] = 1\n",
    "\n",
    "# Load the test data\n",
    "with open(\"data/real_test.json\", \"r\", encoding=\"utf8\") as file:\n",
    "    real_test = pd.read_json(file)\n",
    "\n",
    "with open(\"data/fake_test.json\", \"r\", encoding=\"utf8\") as file:\n",
    "    fake_test = pd.read_json(file)\n",
    "    \n",
    "# Add index\n",
    "# 0 = True, 1 = Fake\n",
    "real_test[\"target\"] = 0\n",
    "fake_test[\"target\"] = 1\n",
    "\n",
    "# Join data together for real and fake news\n",
    "df_train = pd.concat([real_train, fake_train])\n",
    "df_test = pd.concat([real_test, fake_test])\n",
    "\n",
    "from sklearn.feature_extraction.text import CountVectorizer\n",
    "count_vect = CountVectorizer()\n",
    "X_train_counts = count_vect.fit_transform(df_train.text)\n",
    "X_train_counts.shape\n",
    "\n",
    "from sklearn.feature_extraction.text import TfidfTransformer\n",
    "tfidf_transformer = TfidfTransformer()\n",
    "X_train_tfidf = tfidf_transformer.fit_transform(X_train_counts)\n",
    "X_train_tfidf.shape\n",
    "\n",
    "from sklearn.naive_bayes import MultinomialNB\n",
    "clf = MultinomialNB().fit(X_train_tfidf, df_train.target)\n",
    "\n",
    "from sklearn.pipeline import Pipeline\n",
    "text_clf = Pipeline([('vect', CountVectorizer()),\n",
    "                     ('tfidf', TfidfTransformer()),\n",
    "                     ('clf', MultinomialNB()),\n",
    "])\n",
    "text_clf = text_clf.fit(df_train.text, df_train.target)\n",
    "\n",
    "import numpy as np\n",
    "predicted = text_clf.predict(df_test.text)\n",
    "print(np.mean(predicted == df_test.target))\n",
    "\n",
    "# Compute the confusion matrix and plot it\n",
    "from sklearn.metrics import confusion_matrix\n",
    "y_true = df_test.target\n",
    "y_pred = predicted\n",
    "\n",
    "C = confusion_matrix(y_true, y_pred)\n",
    "\n",
    "# Normalize confusion matrix along actual values\n",
    "B = C / C.astype(np.float).sum(axis=1)\n",
    "\n",
    "import seaborn as sn\n",
    "import pandas as pd\n",
    "import matplotlib.pyplot as plt\n",
    "array = B\n",
    "df_cm = pd.DataFrame(array, index=[\"Predicted True\", \"Predicted Fake\"], columns=[\"Actual True\", \"Actual Fake\"])\n",
    "plt.figure()#figsize = (10,7))\n",
    "sn.heatmap(df_cm, annot=True)\n",
    "\n",
    "# Normalize confusion matrix along predicted values\n",
    "A = C / C.astype(np.float).sum(axis=0)\n",
    "\n",
    "array = A\n",
    "df_cm = pd.DataFrame(array, index=[\"Predicted True\", \"Predicted Fake\"], columns=[\"Actual True\", \"Actual Fake\"])\n",
    "plt.figure()#figsize = (10,7))\n",
    "sn.heatmap(df_cm, annot=True)"
   ]
  },
  {
   "cell_type": "code",
   "execution_count": 231,
   "metadata": {},
   "outputs": [
    {
     "data": {
      "text/plain": [
       "<matplotlib.axes._subplots.AxesSubplot at 0x28066bad630>"
      ]
     },
     "execution_count": 231,
     "metadata": {},
     "output_type": "execute_result"
    },
    {
     "data": {
      "image/png": "[encoded data removed]",
      "text/plain": [
       "<Figure size 432x288 with 2 Axes>"
      ]
     },
     "metadata": {
      "needs_background": "light"
     },
     "output_type": "display_data"
    },
    {
     "data": {
      "image/png": "[encoded data removed]",
      "text/plain": [
       "<Figure size 432x288 with 2 Axes>"
      ]
     },
     "metadata": {
      "needs_background": "light"
     },
     "output_type": "display_data"
    }
   ],
   "source": [
    "from sklearn.linear_model import SGDClassifier\n",
    "text_clf_svm = Pipeline([('vect', CountVectorizer()),\n",
    "                     ('tfidf', TfidfTransformer()),\n",
    "                     ('clf-svm', SGDClassifier(loss='hinge', penalty='l2',\n",
    "                                           alpha=1e-3, random_state=42)),]) #n_iter=5\n",
    "_ = text_clf_svm.fit(df_train.text, df_train.target)\n",
    "predicted_svm = text_clf_svm.predict(df_test.text)\n",
    "np.mean(predicted_svm == df_test.target)\n",
    "\n",
    "# Compute the confusion matrix and plot it\n",
    "from sklearn.metrics import confusion_matrix\n",
    "y_true = df_test.target\n",
    "y_pred = predicted_svm\n",
    "\n",
    "C = confusion_matrix(y_true, y_pred)\n",
    "\n",
    "# Normalize confusion matrix along actual values\n",
    "B = C / C.astype(np.float).sum(axis=1)\n",
    "\n",
    "import seaborn as sn\n",
    "import pandas as pd\n",
    "import matplotlib.pyplot as plt\n",
    "array = B\n",
    "df_cm = pd.DataFrame(array, index=[\"Predicted True\", \"Predicted Fake\"], columns=[\"Actual True\", \"Actual Fake\"])\n",
    "plt.figure()#figsize = (10,7))\n",
    "sn.heatmap(df_cm, annot=True)\n",
    "\n",
    "# Normalize confusion matrix along predicted values\n",
    "A = C / C.astype(np.float).sum(axis=0)\n",
    "\n",
    "array = A\n",
    "df_cm = pd.DataFrame(array, index=[\"Predicted True\", \"Predicted Fake\"], columns=[\"Actual True\", \"Actual Fake\"])\n",
    "plt.figure()#figsize = (10,7))\n",
    "sn.heatmap(df_cm, annot=True)"
   ]
  },
  {
   "cell_type": "code",
   "execution_count": null,
   "metadata": {},
   "outputs": [],
   "source": []
  }
 ],
 "metadata": {
  "kernelspec": {
   "display_name": "Python 3",
   "language": "python",
   "name": "python3"
  },
  "language_info": {
   "codemirror_mode": {
    "name": "ipython",
    "version": 3
   },
   "file_extension": ".py",
   "mimetype": "text/x-python",
   "name": "python",
   "nbconvert_exporter": "python",
   "pygments_lexer": "ipython3",
   "version": "3.6.9"
  }
 },
 "nbformat": 4,
 "nbformat_minor": 4
}
